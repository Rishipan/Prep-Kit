{
 "cells": [
  {
   "cell_type": "code",
   "execution_count": 1,
   "id": "4f2855f4-5ad7-4bf2-962f-28a413858afa",
   "metadata": {},
   "outputs": [],
   "source": [
    "# NumPy Array Slicing"
   ]
  },
  {
   "cell_type": "code",
   "execution_count": 3,
   "id": "ae6be4b7-79f3-4cc2-8b0d-587f2e6c48da",
   "metadata": {},
   "outputs": [],
   "source": [
    "# Python program for basic slicing\n",
    "import numpy as np"
   ]
  },
  {
   "cell_type": "code",
   "execution_count": 4,
   "id": "93cff7ae-095b-4602-8dca-1e617f4646e7",
   "metadata": {},
   "outputs": [
    {
     "name": "stdout",
     "output_type": "stream",
     "text": [
      "\n",
      "Array is:\n",
      " [ 0  1  2  3  4  5  6  7  8  9 10 11 12 13 14 15 16 17 18 19]\n"
     ]
    }
   ],
   "source": [
    "# Arrange elements from 0 to 19\n",
    "a=np.arange(20)\n",
    "print(\"\\nArray is:\\n\",a)"
   ]
  },
  {
   "cell_type": "code",
   "execution_count": 5,
   "id": "f6a49f29-938f-4500-905b-08bea9be1e1f",
   "metadata": {},
   "outputs": [
    {
     "name": "stdout",
     "output_type": "stream",
     "text": [
      "\n",
      "a[-8:17:1] =  [12 13 14 15 16]\n"
     ]
    }
   ],
   "source": [
    "# a[start:stop:step]\n",
    "print(\"\\na[-8:17:1] = \", a[-8:17:1])"
   ]
  },
  {
   "cell_type": "code",
   "execution_count": null,
   "id": "dabc12bd-0212-48f6-9a67-700785d39220",
   "metadata": {},
   "outputs": [],
   "source": []
  }
 ],
 "metadata": {
  "kernelspec": {
   "display_name": "Python 3 (ipykernel)",
   "language": "python",
   "name": "python3"
  },
  "language_info": {
   "codemirror_mode": {
    "name": "ipython",
    "version": 3
   },
   "file_extension": ".py",
   "mimetype": "text/x-python",
   "name": "python",
   "nbconvert_exporter": "python",
   "pygments_lexer": "ipython3",
   "version": "3.11.2"
  }
 },
 "nbformat": 4,
 "nbformat_minor": 5
}
