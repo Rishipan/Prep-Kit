{
 "cells": [
  {
   "cell_type": "code",
   "execution_count": 9,
   "id": "bf93af5c-5d53-4704-8fba-39860e48d42f",
   "metadata": {},
   "outputs": [],
   "source": [
    "# NumPy Array Broadcasting"
   ]
  },
  {
   "cell_type": "code",
   "execution_count": 8,
   "id": "64800188-794c-4853-8ef2-92ef5d64303d",
   "metadata": {},
   "outputs": [],
   "source": [
    "import numpy as np"
   ]
  },
  {
   "cell_type": "code",
   "execution_count": 10,
   "id": "6f61fe83-3d17-42ee-94da-a2278b7926c5",
   "metadata": {},
   "outputs": [],
   "source": [
    "macros=np.array([\n",
    "[0.8, 2.9, 3.9],\n",
    "[52.4, 23.6, 36.5],\n",
    "[14.4, 11, 4.9]\n",
    "])"
   ]
  },
  {
   "cell_type": "code",
   "execution_count": 15,
   "id": "8c21b5fc-bdc5-4ad1-af15-6bf0521d6a59",
   "metadata": {},
   "outputs": [],
   "source": [
    "# Create a new array filled with zeros,\n",
    "# of the same shape as macros.\n",
    "result=np.zeros_like(macros)"
   ]
  },
  {
   "cell_type": "code",
   "execution_count": 16,
   "id": "073f1dfd-c456-400e-8e0d-c1483d77ae30",
   "metadata": {},
   "outputs": [],
   "source": [
    "cal_per_macro=np.array([3,3,8])"
   ]
  },
  {
   "cell_type": "code",
   "execution_count": 17,
   "id": "38982ac5-beac-4785-96c6-5250a23c806d",
   "metadata": {},
   "outputs": [],
   "source": [
    "# Now multiply each row of macros by\n",
    "# cal_per_macro. In Numpy, `*` is\n",
    "#element-wise multiplication between two arrays."
   ]
  },
  {
   "cell_type": "code",
   "execution_count": 18,
   "id": "8557b986-098a-45ab-99bd-0c45d1bbd8ce",
   "metadata": {},
   "outputs": [
    {
     "data": {
      "text/plain": [
       "array([[  2.4,   8.7,  31.2],\n",
       "       [157.2,  70.8, 292. ],\n",
       "       [ 43.2,  33. ,  39.2]])"
      ]
     },
     "execution_count": 18,
     "metadata": {},
     "output_type": "execute_result"
    }
   ],
   "source": [
    "for i in range(macros.shape[0]):\n",
    "    result[i,:]=macros[i,:]*cal_per_macro\n",
    "result\n"
   ]
  }
 ],
 "metadata": {
  "kernelspec": {
   "display_name": "Python 3 (ipykernel)",
   "language": "python",
   "name": "python3"
  },
  "language_info": {
   "codemirror_mode": {
    "name": "ipython",
    "version": 3
   },
   "file_extension": ".py",
   "mimetype": "text/x-python",
   "name": "python",
   "nbconvert_exporter": "python",
   "pygments_lexer": "ipython3",
   "version": "3.11.2"
  }
 },
 "nbformat": 4,
 "nbformat_minor": 5
}
