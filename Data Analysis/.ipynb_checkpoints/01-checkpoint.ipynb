{
 "cells": [
  {
   "cell_type": "code",
   "execution_count": null,
   "id": "2499d06d-8f6f-4f35-9f64-ab6e266fa27b",
   "metadata": {},
   "outputs": [],
   "source": [
    "#create Array using numpy.empty(shape, dtype=float, order='c')"
   ]
  },
  {
   "cell_type": "code",
   "execution_count": 1,
   "id": "8a4b587a-6c4f-4541-8994-a85ad43a0041",
   "metadata": {},
   "outputs": [],
   "source": [
    "import numpy as np"
   ]
  },
  {
   "cell_type": "code",
   "execution_count": 7,
   "id": "7c7f762b-1985-499d-b319-2fc0b16df740",
   "metadata": {},
   "outputs": [
    {
     "name": "stdout",
     "output_type": "stream",
     "text": [
      "Matrix b : \n",
      " [0 0]\n"
     ]
    }
   ],
   "source": [
    "b=np.empty(2, dtype=int, order='c')\n",
    "print(\"Matrix b : \\n\",b)"
   ]
  },
  {
   "cell_type": "code",
   "execution_count": 5,
   "id": "b790913c-69a0-470f-940e-92714972f57d",
   "metadata": {},
   "outputs": [
    {
     "name": "stdout",
     "output_type": "stream",
     "text": [
      "\n",
      "Matrix a : \n",
      " [[ 149958451 1035807268]\n",
      " [ 506081848  519027648]]\n"
     ]
    }
   ],
   "source": [
    "a=np.empty([2,2], dtype=int)\n",
    "print(\"\\nMatrix a : \\n\",a)"
   ]
  },
  {
   "cell_type": "code",
   "execution_count": 6,
   "id": "d92a109c-5e73-4c61-b7e1-27c0128b4dd8",
   "metadata": {},
   "outputs": [
    {
     "name": "stdout",
     "output_type": "stream",
     "text": [
      "\n",
      "Matrix c: \n",
      " [[6.23042070e-307 4.67296746e-307 1.69121096e-306]\n",
      " [4.22788818e-307 2.67019049e-306 1.42413555e-306]\n",
      " [1.78019082e-306 4.79243676e-322 0.00000000e+000]]\n"
     ]
    }
   ],
   "source": [
    "c=np.empty([3,3])\n",
    "print(\"\\nMatrix c: \\n\",c)"
   ]
  }
 ],
 "metadata": {
  "kernelspec": {
   "display_name": "Python 3 (ipykernel)",
   "language": "python",
   "name": "python3"
  },
  "language_info": {
   "codemirror_mode": {
    "name": "ipython",
    "version": 3
   },
   "file_extension": ".py",
   "mimetype": "text/x-python",
   "name": "python",
   "nbconvert_exporter": "python",
   "pygments_lexer": "ipython3",
   "version": "3.11.2"
  }
 },
 "nbformat": 4,
 "nbformat_minor": 5
}
