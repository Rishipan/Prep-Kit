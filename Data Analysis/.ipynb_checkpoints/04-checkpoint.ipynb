{
 "cells": [
  {
   "cell_type": "code",
   "execution_count": null,
   "id": "fcf3c0b6-1604-4276-a2c9-6c23c35e5a61",
   "metadata": {},
   "outputs": [],
   "source": [
    "#Operation on Numpy Arrays\n",
    "#Arithmetic Operations\n",
    "#Addition"
   ]
  },
  {
   "cell_type": "code",
   "execution_count": 4,
   "id": "a4c22d99-73c6-46c0-ba60-6b99b8c33cb6",
   "metadata": {},
   "outputs": [],
   "source": [
    "import numpy as np\n"
   ]
  },
  {
   "cell_type": "code",
   "execution_count": 5,
   "id": "409badba-5cd2-4dd7-88de-0b9da2ac0300",
   "metadata": {},
   "outputs": [],
   "source": [
    "#Defining bth the matrices\n",
    "a=np.array([5, 72, 13, 100])\n",
    "b=np.array([2, 5, 10, 30])"
   ]
  },
  {
   "cell_type": "code",
   "execution_count": 6,
   "id": "475575eb-254d-495b-bdf2-3e5a78ec3f4a",
   "metadata": {},
   "outputs": [
    {
     "name": "stdout",
     "output_type": "stream",
     "text": [
      "[  7  77  23 130]\n"
     ]
    }
   ],
   "source": [
    "#Performing addition using arithmetic operator\n",
    "add_res=a+b\n",
    "print(add_res)"
   ]
  },
  {
   "cell_type": "code",
   "execution_count": 7,
   "id": "1dbeb7e2-3de3-4a38-9192-5671af170aa9",
   "metadata": {},
   "outputs": [
    {
     "name": "stdout",
     "output_type": "stream",
     "text": [
      "[  7  77  23 130]\n"
     ]
    }
   ],
   "source": [
    "#Performing addition using numpy function\n",
    "add_res=np.add(a,b)\n",
    "print(add_res)"
   ]
  },
  {
   "cell_type": "code",
   "execution_count": 8,
   "id": "65bb25b0-2bef-4744-8ae8-372b89b05f77",
   "metadata": {},
   "outputs": [],
   "source": [
    "#The same functions and operations can be used for \n",
    "#multiple matrices\n",
    "c=np.array([1,2,3,4])\n"
   ]
  },
  {
   "cell_type": "code",
   "execution_count": 9,
   "id": "03f90c8a-e062-483e-9e43-b878f19b2405",
   "metadata": {},
   "outputs": [
    {
     "name": "stdout",
     "output_type": "stream",
     "text": [
      "[  8  79  26 134]\n"
     ]
    }
   ],
   "source": [
    "sum=a+b+c\n",
    "print(sum)"
   ]
  },
  {
   "cell_type": "code",
   "execution_count": 10,
   "id": "dc3da20a-5aaa-490d-a826-f6bce5ae8ed0",
   "metadata": {},
   "outputs": [
    {
     "name": "stdout",
     "output_type": "stream",
     "text": [
      "[  7  77  23 130]\n"
     ]
    }
   ],
   "source": [
    "sum=np.add(a,b,c)\n",
    "print(sum)"
   ]
  }
 ],
 "metadata": {
  "kernelspec": {
   "display_name": "Python 3 (ipykernel)",
   "language": "python",
   "name": "python3"
  },
  "language_info": {
   "codemirror_mode": {
    "name": "ipython",
    "version": 3
   },
   "file_extension": ".py",
   "mimetype": "text/x-python",
   "name": "python",
   "nbconvert_exporter": "python",
   "pygments_lexer": "ipython3",
   "version": "3.11.2"
  }
 },
 "nbformat": 4,
 "nbformat_minor": 5
}
