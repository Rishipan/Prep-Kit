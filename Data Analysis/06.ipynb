{
 "cells": [
  {
   "cell_type": "code",
   "execution_count": 1,
   "id": "fc26b52c-1ce7-4657-ab32-e062643e01d5",
   "metadata": {},
   "outputs": [],
   "source": [
    "#Python program for indexing using basic slicing with ellipsis"
   ]
  },
  {
   "cell_type": "code",
   "execution_count": 2,
   "id": "b0c20f4b-e011-4bd9-ad2e-32c61968ff6a",
   "metadata": {},
   "outputs": [],
   "source": [
    "import numpy as np"
   ]
  },
  {
   "cell_type": "code",
   "execution_count": 4,
   "id": "95bf656d-4b0d-4020-afe2-82081ab8cae9",
   "metadata": {},
   "outputs": [
    {
     "name": "stdout",
     "output_type": "stream",
     "text": [
      "[[ 2  5]\n",
      " [ 8 11]]\n"
     ]
    }
   ],
   "source": [
    "# A 3 dimensional array\n",
    "b=np.array([[[1, 2, 3], [4, 5, 6]], [[7, 8, 9], [10, 11, 12]]])\n",
    "print(b[...,1])"
   ]
  },
  {
   "cell_type": "code",
   "execution_count": 6,
   "id": "458fe3be-ba94-4879-bbc9-3fc3cf390d82",
   "metadata": {},
   "outputs": [
    {
     "name": "stdout",
     "output_type": "stream",
     "text": [
      "[[ 2  5]\n",
      " [ 8 11]]\n"
     ]
    }
   ],
   "source": [
    "print(b[:, :, 1])"
   ]
  }
 ],
 "metadata": {
  "kernelspec": {
   "display_name": "Python 3 (ipykernel)",
   "language": "python",
   "name": "python3"
  },
  "language_info": {
   "codemirror_mode": {
    "name": "ipython",
    "version": 3
   },
   "file_extension": ".py",
   "mimetype": "text/x-python",
   "name": "python",
   "nbconvert_exporter": "python",
   "pygments_lexer": "ipython3",
   "version": "3.11.2"
  }
 },
 "nbformat": 4,
 "nbformat_minor": 5
}
