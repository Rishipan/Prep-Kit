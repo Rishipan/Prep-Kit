{
 "cells": [
  {
   "cell_type": "code",
   "execution_count": 11,
   "id": "246c9069-0a42-4c4a-9990-ac2ac0887b00",
   "metadata": {},
   "outputs": [],
   "source": [
    "# NumPy Array Indexing"
   ]
  },
  {
   "cell_type": "code",
   "execution_count": 12,
   "id": "5512b034-d4e8-485e-9186-cb1f81acf004",
   "metadata": {},
   "outputs": [],
   "source": [
    "#Python program to demondtrate \n",
    "#the use of index arrays\n",
    "import numpy as np"
   ]
  },
  {
   "cell_type": "code",
   "execution_count": 14,
   "id": "13251245-789c-4927-a101-1cb98bf39c57",
   "metadata": {},
   "outputs": [
    {
     "name": "stdout",
     "output_type": "stream",
     "text": [
      "\n",
      "A sequential array with a negative step:\n",
      " [10  8  6  4  2]\n"
     ]
    }
   ],
   "source": [
    "#create a sequence of integers \n",
    "#10 to 1 with a step of -2\n",
    "a=np.arange(10, 1, -2)\n",
    "print(\"\\nA sequential array with a negative step:\\n\",a)"
   ]
  },
  {
   "cell_type": "code",
   "execution_count": 16,
   "id": "3a8162c3-c884-4162-9522-717553afa1b8",
   "metadata": {},
   "outputs": [
    {
     "name": "stdout",
     "output_type": "stream",
     "text": [
      "\n",
      "Elements at these indices are:\n",
      " [4 8 6]\n"
     ]
    }
   ],
   "source": [
    "#Indexes are specified inside the np.array method\n",
    "newarr=a[np.array([3, 1, 2])]\n",
    "print(\"\\nElements at these indices are:\\n\", newarr)"
   ]
  }
 ],
 "metadata": {
  "kernelspec": {
   "display_name": "Python 3 (ipykernel)",
   "language": "python",
   "name": "python3"
  },
  "language_info": {
   "codemirror_mode": {
    "name": "ipython",
    "version": 3
   },
   "file_extension": ".py",
   "mimetype": "text/x-python",
   "name": "python",
   "nbconvert_exporter": "python",
   "pygments_lexer": "ipython3",
   "version": "3.11.2"
  }
 },
 "nbformat": 4,
 "nbformat_minor": 5
}
